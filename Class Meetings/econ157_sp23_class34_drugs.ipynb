{
 "cells": [
  {
   "cell_type": "markdown",
   "id": "8489cbbd",
   "metadata": {},
   "source": [
    "<img src=\"images/econ157.png\" width=\"200\" />"
   ]
  },
  {
   "cell_type": "markdown",
   "id": "f2fd52de",
   "metadata": {},
   "source": [
    "<h1>ECON 157 Class 34</h1>\n",
    "<h1>Pharmaceutical Development</h1>"
   ]
  },
  {
   "cell_type": "markdown",
   "id": "7049dc92",
   "metadata": {},
   "source": [
    "This notebook is adapted from ECON 157 lecture notes developed by Ben Handel at the University of California, Berkeley, circa 2020."
   ]
  },
  {
   "cell_type": "markdown",
   "id": "2d6edae4",
   "metadata": {},
   "source": [
    "<h2>Background</h2>"
   ]
  },
  {
   "cell_type": "markdown",
   "id": "16c485f2",
   "metadata": {},
   "source": [
    "Bringing new pharmaceuticals to market requires a lengthy process of research and development (R&D) and a good amount of luck. [DiMasi et al. (2003)](https://fds.duke.edu/db?attachment-25--1301-view-168) estimate that <b><u>only 21.5%</u></b> of drugs that enter Phase I testing (low doses given to healthy individuals to establish the safety of the drug) are ultimately successful in Phase III trials (large-scale testing for effectiveness and side effects) and are thus candidates as marketable drugs.\n",
    "\n",
    "Each phase of testing is costly, with an uncertain payoff.\n",
    "\n",
    "We can use the basic tools of undergraduate economic analysis to model and understand the decision-making process of pharmaceutical companies."
   ]
  },
  {
   "cell_type": "markdown",
   "id": "9310a776",
   "metadata": {},
   "source": [
    "<h2>Assumptions</h2>"
   ]
  },
  {
   "cell_type": "markdown",
   "id": "f5b2e835",
   "metadata": {},
   "source": [
    "1. A large pharmaceutical company, <em>PentaTryaticals Inc.</em>, develops a drug <em>Rentnotsohi</em> to combat <em>Brokeley</em>, an endemic disease in a local college town\n",
    "2. A drug's success is independently and identically distributed with a structure shown below\n",
    "3. PentaTryaticals can and will research multiple drugs at once\n",
    "4. But only one successful drug, the first to market, will be profitable, earning $\\Pi$. Nobody cares about further successes\n",
    "5. Only PentaTryaticals is in the business, so it cannot be beaten to market by another company\n",
    "6. A successful drug receives a patent and earns monopoly profits during the period of patent protection\n",
    "7. PentaTryaticals does not set monopoly prices strategically other than to maximize profits\n",
    "8. The annual discount rate is 3%, thus $r = 0.03$ and the discount factor $\\delta = \\frac{1}{1+r} \\approx 0.971$\n",
    "9. PentaTryaticals is an expected net profit maximizer, with no risk aversion"
   ]
  },
  {
   "cell_type": "markdown",
   "id": "88ac95e4",
   "metadata": {},
   "source": [
    "<h3>Scientific success</h3>"
   ]
  },
  {
   "cell_type": "markdown",
   "id": "e158ca66",
   "metadata": {},
   "source": [
    "The probability that a drug is successful is 20%, and drugs also face equal 20% chances of dropping out at earlier rounds:\n",
    "\n",
    "| Outcome | Probability | Cost | Profit |\n",
    "|---|---|---|---|\n",
    "| Drops out before clinical trials | 20% | 5 | 0 |\n",
    "| Drops out after Phase I | 20% | 10 | 0 |\n",
    "| Drops out after Phase II | 20% | 50 | 0 |\n",
    "| Drops out after Phase III | 20% | 100 | 0 |\n",
    "| Reaches market | 20% | 100 | $\\Pi$ |\n",
    "\n",
    "In the last row, $\\Pi$ is the present discounted value of profits earned from the patented lifetime of a successful drug. Costs are in millions of dollars. For example, one out of five times, a drug will make it to Phase II but will then fail, costing PentaTryaticals $50 million and earning it nothing. This is the third row in the table."
   ]
  },
  {
   "cell_type": "markdown",
   "id": "430cebb1",
   "metadata": {},
   "source": [
    "<h2>Part 1: Development costs</h2>"
   ]
  },
  {
   "cell_type": "markdown",
   "id": "616a3787",
   "metadata": {},
   "source": [
    "Consider the decision of PentaTryaticals to develop $n$ drugs simultaneously. When success is probabilistic and independently and identically distributed, as shown above, there is no single choice of $n$ that will ensure success with certainty. But a rule of thumb that executives might follow would be to develop $n = 5$ drugs when the probability that any drug succeeds is $p = 1/5 = 0.2$.\n",
    "\n",
    "What are expected net profits when $p = 0.2$ and $n = 5$?"
   ]
  },
  {
   "cell_type": "markdown",
   "id": "1b07a85d",
   "metadata": {},
   "source": [
    "<h3>Probability models</h3>"
   ]
  },
  {
   "cell_type": "markdown",
   "id": "4dca8d59",
   "metadata": {},
   "source": [
    "There are a variety of ways to model this, but a convenient and slick method is to use the [binomial coefficient](https://en.wikipedia.org/wiki/Binomial_coefficient). When we have Bernoulli \"coin flips\" with probability $p$, the probability of $k$ successes in $n$ trials in the [binomial distribution](https://en.wikipedia.org/wiki/Binomial_distribution) is given by:\n",
    "\n",
    "$$\n",
    "Pr[k; n, p] = {n \\choose k} p^k (1 - p)^{n - k}\n",
    "$$\n",
    "\n",
    "where\n",
    "\n",
    "$$\n",
    "{n \\choose k} = \\frac{n!}{k! (n - k)!}\n",
    "$$\n"
   ]
  },
  {
   "cell_type": "code",
   "execution_count": null,
   "id": "ed61c4fd",
   "metadata": {},
   "outputs": [],
   "source": [
    "# p is the probability of success\n",
    "p = 0.2\n",
    "\n",
    "# n is the number of tries\n",
    "n = 5\n",
    "\n",
    "# k is the number of successes in n tries, a vector of integers from 0 to n.\n",
    "# These are the possible states of nature\n",
    "k <- c(0, 1, 2, 3, 4, 5)\n",
    "\n",
    "# The probability of k successes is mathy fun. There's probably a slicker function in R, but:\n",
    "psuccessvec = factorial(n)/( factorial(k) * factorial(n-k) ) * p^k * (1 - p)^(n-k)\n",
    "psuccessvec"
   ]
  },
  {
   "cell_type": "markdown",
   "id": "cb0a4d0e",
   "metadata": {},
   "source": [
    "<hr>"
   ]
  },
  {
   "cell_type": "markdown",
   "id": "97c11d06",
   "metadata": {},
   "source": [
    "Some quick diagnostics: The first element should tell us the probability that none of the $n$ drugs are successful, which should equal the probability that each one is unsuccessful, or $(1-p)^n$. Also, the six probabilities should sum to 1, because there are no other possible outcomes."
   ]
  },
  {
   "cell_type": "code",
   "execution_count": null,
   "id": "31c24212",
   "metadata": {},
   "outputs": [],
   "source": [
    "(1-p)^n\n",
    "sum(psuccessvec)"
   ]
  },
  {
   "cell_type": "markdown",
   "id": "77ce4fa1",
   "metadata": {},
   "source": [
    "<hr>"
   ]
  },
  {
   "cell_type": "markdown",
   "id": "6ae0ae5d",
   "metadata": {},
   "source": [
    "The probability that PentaTryaticals earns profits $\\Pi$ is the probability that at least one drug is successful. This equals one minus the probability that none are successful, which is the first element of `psuccessvec`."
   ]
  },
  {
   "cell_type": "code",
   "execution_count": null,
   "id": "f9c6408f",
   "metadata": {},
   "outputs": [],
   "source": [
    "# the probability that PentaTryaticals earns the profit \n",
    "p_pi = 1 - psuccessvec[1]\n",
    "p_pi"
   ]
  },
  {
   "cell_type": "markdown",
   "id": "f605975f",
   "metadata": {},
   "source": [
    "<h3>Expected net profit</h3>"
   ]
  },
  {
   "cell_type": "markdown",
   "id": "d78ff5e7",
   "metadata": {},
   "source": [
    "We can approach expected costs in the following way. Given the cost structure shown above for an individual drug, we know that the cost of a successful drug is 100, while the average cost of an unsuccessful drug is \n",
    "\n",
    "$$ \\frac{5 + 10 + 50 + 100}{4} = 41.25\n",
    "$$\n",
    "\n",
    "The cost vector showing costs for $k$ successful drugs should be a linear combination of 100 per successful drug and 41.25 per unsuccessful drug."
   ]
  },
  {
   "cell_type": "code",
   "execution_count": null,
   "id": "922720b9",
   "metadata": {},
   "outputs": [],
   "source": [
    "# The vector showing costs for the 5 outcomes, the last of which is success\n",
    "cost <- c(5, 10, 50, 100, 100)\n",
    "\n",
    "# Cost of a successful drug is the last element\n",
    "costsucc = cost[5]\n",
    "\n",
    "# On average, an unsuccessful drug costs the average across the first 4 outcomes\n",
    "costunsucc = (cost[1] + cost[2] + cost[3] + cost[4])/4\n",
    "\n",
    "# The vector showing costs across the 6 possible states of nature\n",
    "costvec <- costsucc*k + costunsucc*(n - k)\n",
    "\n",
    "# Expected costs are the scalar product of the probability vector and the cost vector\n",
    "# across the 6 possible states of nature\n",
    "expectedcosts <- sum(psuccessvec*costvec)\n",
    "\n",
    "# Diagnostics:\n",
    "costsucc\n",
    "costunsucc\n",
    "costvec\n",
    "expectedcosts"
   ]
  },
  {
   "cell_type": "markdown",
   "id": "70354b41",
   "metadata": {},
   "source": [
    "This is to say that when $n = 5$ and $p = 0.2$ and the cost outcomes are as shown above, expected development costs are equal to:\n",
    "\n",
    "$$\n",
    "E[C] = 265\n",
    "$$"
   ]
  },
  {
   "cell_type": "markdown",
   "id": "a8902d18",
   "metadata": {},
   "source": [
    "<hr>"
   ]
  },
  {
   "cell_type": "markdown",
   "id": "1a2d416b",
   "metadata": {},
   "source": [
    "Putting all these pieces together shows us that expected net profits are \n",
    "\n",
    "$$\n",
    "E[\\Pi] - E[C] = 0.67232 \\ \\Pi - 265\n",
    "$$\n",
    "\n",
    "where the coefficient on $\\Pi$ is the probability that at least 1 drug is successful, equal to one minus the probability that none of the 5 are successful. This shows expected net profits in <em>millions</em> of dollars."
   ]
  },
  {
   "cell_type": "markdown",
   "id": "a3b79fdb",
   "metadata": {},
   "source": [
    "<hr>"
   ]
  },
  {
   "cell_type": "markdown",
   "id": "881650a2",
   "metadata": {},
   "source": [
    "<h2>Part 2: Monopoly profits</h2>"
   ]
  },
  {
   "cell_type": "markdown",
   "id": "a2500c29",
   "metadata": {},
   "source": [
    "If it develops a successful drug, patent protection grants PentaTryaticals exclusivity (a.k.a. monopoly) over the drug for a certain time period. The Affordable Care Act (a.k.a. \"Obamacare\") granted 12 years after approval, for example (see [this Senate briefer](https://www.dpc.senate.gov/healthreformbill/healthbill27.pdf)).\n",
    "\n",
    "Consider this setup in the consumer market for the successful drug, <em>Rentnotsohi</em>, where quantity units are expressed in thousands:\n",
    "\n",
    "<h4>Demand:</h4> \n",
    "$P = 500 - 0.2 \\ Q$ \n",
    "\n",
    "<h4>Marginal Revenue (MR):</h4> \n",
    "$P = 500 - 0.4 \\ Q$ \n",
    "\n",
    "<h4>Marginal Cost (MC):</h4> \n",
    "$P = 0$ \n",
    "\n",
    "It is a little extreme to set the marginal cost of producing the known drug <em>Rentnotsohi</em> equal to zero, but it makes an important point. Marginal costs of producing known drugs are very low, and thus without patent protection, market prices would be pushed close to zero by competitive forces."
   ]
  },
  {
   "cell_type": "markdown",
   "id": "6fc52d1c",
   "metadata": {},
   "source": [
    "The profit-maximizing monopolist price in this case occurs at the quantity where MR = MC. Solving, we find\n",
    "\n",
    "$$\n",
    "Q^{mply} = \\frac{500}{0.4} = 1250\n",
    "$$\n",
    "\n",
    "meaning a monopolist quantity of 1.25 million units per period. \n",
    "Substituting $Q^{mply}$ into the demand equation, we find:\n",
    "\n",
    "$$\n",
    "P^{mply} = 500 - 0.2 \\times 1250 = 250\n",
    "$$\n",
    "\n",
    "At a price of \\\\$250, 1.25 million in sales means a monopoly profit of \n",
    "\n",
    "$$\n",
    "\\pi = P^{mply} \\times Q^{mply} = 312.5 \n",
    "$$\n",
    "\n",
    "in millions of dollars per period."
   ]
  },
  {
   "cell_type": "markdown",
   "id": "196c7803",
   "metadata": {},
   "source": [
    "<hr>"
   ]
  },
  {
   "cell_type": "markdown",
   "id": "071d6933",
   "metadata": {},
   "source": [
    "Would the pharmaceutical company choose to invest in developing <em>Rentnotsohi</em>? The answer will be <b>yes</b>, but the condition is that expected net profits must be positive for a risk-neutral company. If we ignore discounting during the development phase but model it here during monopoly profits, then the present discounted value of monopoly profits over 12 years is:\n",
    "\n",
    "$$\n",
    "\\Pi = \\sum_{t=0}^{11} \\left(\\frac{1}{1+r}\\right)^t \\pi \n",
    "= \\sum_{t=0}^{11} \\left(\\frac{1}{1.03}\\right)^t \\times 312.5 \n",
    "$$"
   ]
  },
  {
   "cell_type": "code",
   "execution_count": null,
   "id": "ed91d092",
   "metadata": {},
   "outputs": [],
   "source": [
    "r = 0.03\n",
    "t = c(0,1,2,3,4,5,6,7,8,9,10,11)\n",
    "discountfactor = 1/(1+r)^t\n",
    "discountfactor"
   ]
  },
  {
   "cell_type": "code",
   "execution_count": null,
   "id": "c90b3d99",
   "metadata": {},
   "outputs": [],
   "source": [
    "monop_pi = 312.5\n",
    "monop_profits = sum(monop_pi*discountfactor)\n",
    "monop_profits"
   ]
  },
  {
   "cell_type": "code",
   "execution_count": null,
   "id": "7acf3965",
   "metadata": {},
   "outputs": [],
   "source": [
    "expected_net_profits = p_pi * monop_profits - expectedcosts\n",
    "expected_net_profits"
   ]
  },
  {
   "cell_type": "markdown",
   "id": "607cb966",
   "metadata": {},
   "source": [
    "Under these conditions, expected net profits are a tidy sum indeed, a whopping $1.9 billion!"
   ]
  },
  {
   "cell_type": "markdown",
   "id": "5d8c1382",
   "metadata": {},
   "source": [
    "<hr>"
   ]
  },
  {
   "cell_type": "markdown",
   "id": "581f4bbf",
   "metadata": {},
   "source": [
    "<h2>Questions for discussion</h2>\n",
    "\n",
    "1. Comparative statics: What would happen to expected net profits if\n",
    "\n",
    "* The discount rate were higher?\n",
    "* Development costs were higher?\n",
    "* Patent protection ended sooner?\n",
    "\n",
    "2. Further afield.\n",
    "\n",
    "* What if there were another pharmaceutical competitor to <em>PentaTryaticals</em>?\n",
    "* What if litigants (maybe local landlords) could sue to halt the sale of <em>Rentnotsohi</em>?"
   ]
  },
  {
   "cell_type": "markdown",
   "id": "8007f636",
   "metadata": {},
   "source": []
  },
  {
   "cell_type": "markdown",
   "id": "1e5b5f1e",
   "metadata": {},
   "source": [
    "<div style=\"text-align: right\"> <span style=\"font-family:Papyrus; \">And they lived happily ever after. The End.</span></div>"
   ]
  }
 ],
 "metadata": {
  "kernelspec": {
   "display_name": "R",
   "language": "R",
   "name": "ir"
  },
  "language_info": {
   "codemirror_mode": "r",
   "file_extension": ".r",
   "mimetype": "text/x-r-source",
   "name": "R",
   "pygments_lexer": "r",
   "version": "4.2.1"
  }
 },
 "nbformat": 4,
 "nbformat_minor": 5
}
