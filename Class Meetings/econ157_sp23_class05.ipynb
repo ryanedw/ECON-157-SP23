{
 "cells": [
  {
   "cell_type": "markdown",
   "id": "8dad8d21",
   "metadata": {},
   "source": [
    "<img src=\"images/econ157.png\" width=\"200\" />"
   ]
  },
  {
   "cell_type": "markdown",
   "id": "ea1af205",
   "metadata": {},
   "source": [
    "<h1>ECON 157 Class 05</h1>"
   ]
  },
  {
   "cell_type": "markdown",
   "id": "07f8c979",
   "metadata": {},
   "source": [
    "Data from the 1974-1982 RAND Health Insurance Experiment (HIE) were unearthed by Aviva Aron-Dine, Liran Einav, and Amy Finkelstein (J. Econ. Perspect., 2013). Josh Angrist and J&#246;rn-Steffen Pischke provide an extract online at [Mastering Metrics](https://www.masteringmetrics.com/resources/).\n",
    "\n",
    "Earlier we looked at Panel A of Table 1.4; here, let's examine the data behind <b>Panel B in Table 1.4</b>, which reveals average levels of health status (the rows) across 5 types of care. The \"control group\" consist of people with catastrophic health insurance only (the leftmost column). In subsequent columns, the authors show us the average difference in the utilization measure in that row between one of the three \"treatment arms\" they argue are useful to consider (deductible, coinsurance, free), and the control group.\n",
    "\n",
    "Learning objectives\n",
    "* Get more experience with real data\n",
    "* Notice that OLS regression with `lm()` and useful $x$ variables can test average differences across subgroups\n",
    "* Health status varies with characteristics. These are known as health inequalities\n",
    "\n",
    "With an outcome variable $y_i$ and treatment group indicator variables $D^d_i$, $D^c_i$, and $D^f_i$, for example, then this regression:\n",
    "\n",
    "$$\n",
    "y_i = \\alpha + \\beta^d \\cdot D^d_i + \\beta^c \\cdot D^c_i + \\beta^f \\cdot D^f_i + \\epsilon_i\n",
    "$$\n",
    "\n",
    "provides a very convenient way of testing the average differences:\n",
    "* between the control group and the \"deductible\" group $d$: $\\beta^d$\n",
    "* between the control group and the \"coinsurance\" group $c$: $\\beta^c$\n",
    "* between the control group and the \"free care\" group $f$: $\\beta^f$\n",
    "\n",
    "The reason is we have omitted the indicator variable for the control group, those in the \"catastrophic\" plan.\n",
    "\n",
    "Here's a clean PNG of Table 1.4:"
   ]
  },
  {
   "cell_type": "markdown",
   "id": "44aabe47",
   "metadata": {},
   "source": [
    "<img src=\"MMtbl14.png\" width=\"800\" />"
   ]
  },
  {
   "cell_type": "code",
   "execution_count": null,
   "id": "913b64b9",
   "metadata": {},
   "outputs": [],
   "source": [
    "library(haven)\n",
    "library(tidyverse)\n",
    "library(estimatr)"
   ]
  },
  {
   "cell_type": "markdown",
   "id": "82141b13",
   "metadata": {},
   "source": [
    "Here is an extract containing the information underneath Table 1.4B."
   ]
  },
  {
   "cell_type": "code",
   "execution_count": null,
   "id": "9ce0f4c5",
   "metadata": {},
   "outputs": [],
   "source": [
    "table1_4b <- read_dta(\"table1_4b.dta\")"
   ]
  },
  {
   "cell_type": "code",
   "execution_count": null,
   "id": "c3e41bb7",
   "metadata": {},
   "outputs": [],
   "source": [
    "head(table1_4b)"
   ]
  },
  {
   "cell_type": "markdown",
   "id": "1cc424fd",
   "metadata": {},
   "source": [
    "Variables that measure \"ending\" characteristics are labeled with a \"-x\" suffix. Here we have:\n",
    "* `ghindxx` = the general health index, where more is better health. Probably self-reported\n",
    "* `cholstx` = total cholesterol in mg/dL, where more is bad\n",
    "* `systolx` = systolic blood pressure (when your heart beats) in mm Hg\n",
    "* `mhix` = a mental health index, where more is better mental health. Probably based on self-reports"
   ]
  },
  {
   "cell_type": "markdown",
   "id": "2120d1be",
   "metadata": {},
   "source": [
    "Sometimes __R__ returns things in unfortunate formats. Here is an option that helps for the next command:"
   ]
  },
  {
   "cell_type": "code",
   "execution_count": null,
   "id": "dd615a1f",
   "metadata": {},
   "outputs": [],
   "source": [
    "options(scipen=0)"
   ]
  },
  {
   "cell_type": "markdown",
   "id": "6157016e",
   "metadata": {},
   "source": [
    "The call below estimates our simple OLS model with the $y$-variable set to be the general health index. Results should parallel first row in Table 1.4B above."
   ]
  },
  {
   "cell_type": "code",
   "execution_count": null,
   "id": "76c03395",
   "metadata": {},
   "outputs": [],
   "source": [
    "reg_t1_4b_ghindxx <- lm_robust(ghindxx ~ plan_deduc + plan_coins + plan_free,\n",
    "                               data = subset(table1_4b, famid != \"NA\"), clusters = famid)\n",
    "summary(reg_t1_4b_ghindxx)"
   ]
  },
  {
   "cell_type": "markdown",
   "id": "ce8f014f",
   "metadata": {},
   "source": [
    "<hr>"
   ]
  },
  {
   "cell_type": "markdown",
   "id": "1c9517ef",
   "metadata": {},
   "source": [
    "We can also look at the pre-study characteristics of the people in the sample using the data underneath Table 1.3, which is shown below."
   ]
  },
  {
   "cell_type": "markdown",
   "id": "98d3b8f4",
   "metadata": {},
   "source": [
    "<img src=\"MMtbl13.png\" width=\"800\" />"
   ]
  },
  {
   "cell_type": "markdown",
   "id": "4723aed9",
   "metadata": {},
   "source": [
    "The data are in this extract. (In principle, we could merge these various files using the `person` variable, which is the individual identifier.)"
   ]
  },
  {
   "cell_type": "code",
   "execution_count": null,
   "id": "1724ba43",
   "metadata": {},
   "outputs": [],
   "source": [
    "table1_3 <- read_dta(\"table1_3.dta\")"
   ]
  },
  {
   "cell_type": "code",
   "execution_count": null,
   "id": "f976d75e",
   "metadata": {},
   "outputs": [],
   "source": [
    "head(table1_3)"
   ]
  },
  {
   "cell_type": "markdown",
   "id": "e4ad8ff8",
   "metadata": {},
   "source": [
    "Here is a replication of the top row in Table 1.3B, an examination of how the general health index measured at baseline, before the study, may have varied across insurance groups assigned in the study."
   ]
  },
  {
   "cell_type": "code",
   "execution_count": null,
   "id": "553afe4b",
   "metadata": {},
   "outputs": [],
   "source": [
    "reg_t1_3b_ghindx <- lm_robust(ghindx ~ plan_deduc + plan_coins + plan_free, \n",
    "                    data = subset(table1_3, famid != \"NA\"), clusters = famid)\n",
    "summary(reg_t1_3b_ghindx)"
   ]
  },
  {
   "cell_type": "markdown",
   "id": "284d1997",
   "metadata": {},
   "source": [
    "We see scant evidence of any statistically significant differences in baseline health."
   ]
  },
  {
   "cell_type": "markdown",
   "id": "b0d9244c",
   "metadata": {},
   "source": [
    "Now let us run a different inquiry. <i>How does baseline health vary with individual characteristics</i>, like age, gender, race/ethnicity, education, and income? To answer that question, we can model the baseline general health index as a function of those right-hand side variables:\n",
    "\n",
    "$$\n",
    "ghindx_i = \\alpha + \\beta_a age_i + \\beta_f female_i + \\beta_b blackhisp_i + \\beta_e educ_i + \\beta_i income1cpi + \\nu_i\n",
    "$$"
   ]
  },
  {
   "cell_type": "code",
   "execution_count": null,
   "id": "48171248",
   "metadata": {},
   "outputs": [],
   "source": [
    "reg_ghindx <- lm_robust(ghindx ~ age + female + blackhisp + educper + income1cpi, \n",
    "                        data = subset(table1_3, famid != \"NA\"), clusters = famid)\n",
    "summary(reg_ghindx)"
   ]
  },
  {
   "cell_type": "markdown",
   "id": "7d8f88f3",
   "metadata": {},
   "source": [
    "We see telltale signs of health inequalities here at baseline, in the full sample of individuals. Older people report worse health, as do females, people who are Black or Hispanic, and people with less education or income. "
   ]
  },
  {
   "cell_type": "markdown",
   "id": "04788f2e",
   "metadata": {},
   "source": []
  },
  {
   "cell_type": "markdown",
   "id": "eff35c41",
   "metadata": {},
   "source": [
    "<div style=\"text-align: right\"> <span style=\"font-family:Papyrus; \">And they lived happily ever after. The End.</span></div>"
   ]
  }
 ],
 "metadata": {
  "kernelspec": {
   "display_name": "R",
   "language": "R",
   "name": "ir"
  },
  "language_info": {
   "codemirror_mode": "r",
   "file_extension": ".r",
   "mimetype": "text/x-r-source",
   "name": "R",
   "pygments_lexer": "r",
   "version": "4.2.1"
  }
 },
 "nbformat": 4,
 "nbformat_minor": 5
}
