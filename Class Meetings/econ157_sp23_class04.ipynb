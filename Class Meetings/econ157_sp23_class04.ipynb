{
 "cells": [
  {
   "cell_type": "markdown",
   "id": "3dc4c736",
   "metadata": {},
   "source": [
    "<img src=\"images/econ157.png\" width=\"200\" />"
   ]
  },
  {
   "cell_type": "markdown",
   "id": "8ff12b62",
   "metadata": {},
   "source": [
    "<h1>ECON 157 Class 04</h1>"
   ]
  },
  {
   "cell_type": "markdown",
   "id": "67303ccd",
   "metadata": {},
   "source": [
    "Data from the 1974-1982 RAND Health Insurance Experiment (HIE) were unearthed by Aviva Aron-Dine, Liran Einav, and Amy Finkelstein (J. Econ. Perspect., 2013). Josh Angrist and J&#246;rn-Steffen Pischke provide an extract online at [Mastering Metrics](https://www.masteringmetrics.com/resources/).\n",
    "\n",
    "Let's examine the data behind Panel A in Table 1.4, which reveals average levels of health care utilization across 5 types of care (the rows) for the \"control group,\" people with catastrophic health insurance only (the leftmost column). In subsequent columns, the authors show us the average difference in the utilization measure in that row between one of the three \"treatment arms\" they argue are useful to consider (deductible, coinsurance, free), and the control group.\n",
    "\n",
    "The objectives here are to get more experience with real data, and to notice that ordinary least squares regression with `lm()` is a very handy way to cut to the chase and test average differences across subgroups. A \"small print\" detail is that Angrist and Pischke are doing what's called <i>clustering standard errors at the family level</i>. This last point will definitely not be on any exams.\n",
    "\n",
    "The main objective is to recognize that with an outcome variable $y_i$ and group identity indicator variables $D^d_i$, $D^c_i$, and $D^f_i$, for example, then this regression:\n",
    "\n",
    "$$\n",
    "y_i = \\alpha + \\beta^d \\cdot D^d_i + \\beta^c \\cdot D^c_i + \\beta^f \\cdot D^f_i + \\epsilon_i\n",
    "$$\n",
    "\n",
    "provides a very convenient way of testing the average differences:\n",
    "* between the control group and group $d$: $\\beta^d$\n",
    "* between the control group and group $c$: $\\beta^c$\n",
    "* between the control group and group $f$: $\\beta^f$\n",
    "\n",
    "Here's a clean PNG of Table 1.4:"
   ]
  },
  {
   "cell_type": "markdown",
   "id": "75212122",
   "metadata": {},
   "source": [
    "<img src=\"MMtbl14.png\" width=\"800\" />"
   ]
  },
  {
   "cell_type": "markdown",
   "id": "b1bb625c",
   "metadata": {},
   "source": [
    "Let's load up <b>haven</b>, <b>tidyverse</b>, and <b>estimatr</b>. The last one lets use run `lm_robust()` to match the clustered standard errors that Angrist and Pischke report in <i>Mastering Metrics</i>."
   ]
  },
  {
   "cell_type": "code",
   "execution_count": null,
   "id": "c2fd4880",
   "metadata": {},
   "outputs": [],
   "source": [
    "library(haven)\n",
    "library(tidyverse)\n",
    "library(estimatr)"
   ]
  },
  {
   "cell_type": "markdown",
   "id": "0fec32e0",
   "metadata": {},
   "source": [
    "I have prepared an extract of the RAND HIE data underneath Table 1.4 Panel A in <i>Mastering Metrics</i>. These data include health care utilization outcomes across the four groups that Angrist and Pischke argue are usefully distinguishable, ordered here from least generous to most generous:\n",
    "\n",
    "* Catastrophic plan\n",
    "* Deductible plan\n",
    "* Coinsurance plan\n",
    "* Free plan\n",
    "\n",
    "We have the five utilization measures shown in Table 1.4A here: `ftf` is face-to-face visits; `out_inf` are outpatient expenses; `totadm` is total hospital admissions; `inpdol_inf` are inpatient expenses, and `tot_inf` are total expenses."
   ]
  },
  {
   "cell_type": "code",
   "execution_count": null,
   "id": "92e742a6",
   "metadata": {},
   "outputs": [],
   "source": [
    "table1_4a <- read_dta(\"table1_4.dta\")"
   ]
  },
  {
   "cell_type": "code",
   "execution_count": null,
   "id": "5adcdb4e",
   "metadata": {},
   "outputs": [],
   "source": [
    "head(table1_4a)"
   ]
  },
  {
   "cell_type": "markdown",
   "id": "07731c91",
   "metadata": {},
   "source": [
    "We can estimate the average differences in $y$ variables across these insurance groups using `lm()`, but we will find that our standard errors are different than reported. Here is the equation again in symbolic math:\n",
    "\n",
    "$$\n",
    "y_i = \\alpha + \\beta^d \\cdot D^d_i + \\beta^c \\cdot D^c_i + \\beta^f \\cdot D^f_i + \\epsilon_i\n",
    "$$\n",
    "\n",
    "where the average differences are:\n",
    "* between the control group and the deductible group $d$: $\\beta^d$\n",
    "* between the control group and coinsurance group $c$: $\\beta^c$\n",
    "* between the control group and free-care group $f$: $\\beta^f$\n"
   ]
  },
  {
   "cell_type": "code",
   "execution_count": null,
   "id": "522e9755",
   "metadata": {},
   "outputs": [],
   "source": [
    "reg_toprow <- lm(ftf ~ plan_deduc + plan_coins + plan_free, data = table1_4a)\n",
    "\n",
    "summary(reg_toprow)"
   ]
  },
  {
   "cell_type": "markdown",
   "id": "a1435d44",
   "metadata": {},
   "source": [
    "Describe what you see above."
   ]
  },
  {
   "cell_type": "markdown",
   "id": "7ac08663",
   "metadata": {},
   "source": []
  },
  {
   "cell_type": "markdown",
   "id": "236116d1",
   "metadata": {},
   "source": [
    "Now let's run `lm_robust()` with options set to the baseline. The syntax is the same as it is for `lm()`, and we should recover the same results, as long as we set the standard errors to \"classical\" type."
   ]
  },
  {
   "cell_type": "code",
   "execution_count": null,
   "id": "985f3cd2",
   "metadata": {},
   "outputs": [],
   "source": [
    "reg_toprow <- lm(ftf ~ plan_deduc + plan_coins + plan_free, data = table1_4a)\n",
    "\n",
    "summary(reg_toprow)"
   ]
  },
  {
   "cell_type": "markdown",
   "id": "08ccf82e",
   "metadata": {},
   "source": [
    "Now let's explore what <i>clustering our standard errors at the family level</i> does to our estimates of the standard errors. Because there are families in these data, indexed by the `famid` variable, we might expect that the $\\epsilon$'s that shock a person one way or another within a family might shock the rest of the family as well. Imagine a family car that breaks down, so nobody keeps their checkup appointments."
   ]
  },
  {
   "cell_type": "code",
   "execution_count": null,
   "id": "b4078f94",
   "metadata": {},
   "outputs": [],
   "source": [
    "reg_toprowcluster <- lm_robust(ftf ~ plan_deduc + plan_coins + plan_free, \n",
    "                                data = table1_4a, clusters = famid)\n",
    "\n",
    "summary(reg_toprowcluster)"
   ]
  },
  {
   "cell_type": "markdown",
   "id": "24696d15",
   "metadata": {},
   "source": [
    "Compare these results to the top row in Table 1.4B. What do you see?"
   ]
  },
  {
   "cell_type": "markdown",
   "id": "353179f2",
   "metadata": {},
   "source": []
  },
  {
   "cell_type": "markdown",
   "id": "e5dcf6ba",
   "metadata": {},
   "source": [
    "Compare these results to the results without clustering standard errors at the family level. Which ones are larger?"
   ]
  },
  {
   "cell_type": "markdown",
   "id": "a9ec932f",
   "metadata": {},
   "source": []
  },
  {
   "cell_type": "markdown",
   "id": "50ab6640",
   "metadata": {},
   "source": [
    "<div style=\"text-align: right\"> <span style=\"font-family:Papyrus; \">And they lived happily ever after. The End.</span></div>"
   ]
  }
 ],
 "metadata": {
  "kernelspec": {
   "display_name": "R",
   "language": "R",
   "name": "ir"
  },
  "language_info": {
   "codemirror_mode": "r",
   "file_extension": ".r",
   "mimetype": "text/x-r-source",
   "name": "R",
   "pygments_lexer": "r",
   "version": "4.2.1"
  }
 },
 "nbformat": 4,
 "nbformat_minor": 5
}
